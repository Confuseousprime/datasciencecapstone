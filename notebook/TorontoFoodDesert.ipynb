{
 "cells": [
  {
   "cell_type": "markdown",
   "metadata": {},
   "source": [
    "# Battle of the Neighbourhoods: Grocer Availability and Food Security in Toronto Using Foursquare and Yelp"
   ]
  },
  {
   "cell_type": "markdown",
   "metadata": {},
   "source": [
    "## Part 1: Introduction and Problem Statement"
   ]
  },
  {
   "cell_type": "markdown",
   "metadata": {},
   "source": [
    "Addressing systemic inequalities is never easy, even among the largest and most progressive cities in North America. Our cities are built as neighborhoods and organized in so that things are not equal. One pervasive issue that has gained attention from academics researchers, and policy planners with my background is the Food Desert problem. A Food Desert is defined as an area, usually in a city, where access to groceries is limited or non-existant. Other factors that are included in the definition are a concentration of fast food resturants or the subsitution of low quality grocery outlets (e.g. Gas Stations) for more traditional supers, grocers, or delis. \n",
    "\n",
    "Lack of access to healthy food causes problems in so many different ways. Logically, most pepople accociate this issue with obesity, diabetes, and other chronic diseases of aging. Additionally, however, living or working in a food desert is associated with pooer economic indiactors alongside health indicators as well. While the relationship between these  factors is undoubtably intertwined they still must be examined individually.\n",
    "\n",
    "This sort capstone project seeks to identify areas in the city of Toronto that could be classified as a Food Desert. It will do so in a number of different ways -- firstly by examining the proportion of stores categorized as grocery-related and balancing that against low quality options, primarily gas stations. Secondly, it will examine the resturant composition of the area, creating and highlighting areas where 'fast food' comes up more often. It will balance this information against the underlying population of the Postal Codes; combining areas that are geographically compressed and eliminating areas that are designated buisness centers or other areas where there is low residency.  \n",
    "\n",
    "The project offers no perscription on the outcome. But if somebody were to use the database for their benefit, they might use this to critically examine Toronto and determine their relocation. Or, they might look and see opportunity to benefit the community by opening up a shop or encouraging development of a particular area. Any information and results, however, should be viewed with a critical eye; additional research will be needed to confirm these findings, preferrably on the ground as opposed to in the cloud.\n"
   ]
  },
  {
   "cell_type": "markdown",
   "metadata": {},
   "source": [
    "## Part 2: Description of Data"
   ]
  },
  {
   "cell_type": "markdown",
   "metadata": {},
   "source": [
    "There are three main databases that will be used for this project. \n",
    "\n",
    "The first is the Foursquare neighborhood database, with aggregates user submitted data on neighborhood locales. This database is highly regarded and used routniely by companies such as Apple and Google to profile neighborhoods, get directions, and make recommendations. To read more about the Foursquare API, please visit: https://developer.foursquare.com/\n",
    "\n",
    "The second dataset is a free academic dataset provided by Yelp, a rival neighborhood profiling website. While Yelp once focused on resturant quality it has now expanded to include additional venue data. I decided to incorporate Yelp Data into my analysis because Yelp provides more comprehensive data on grocers and grocery stores. The Yelp Dataset for learning is also freely avaialble for non-commercial and academic use. For more information, visit: https://www.yelp.com/dataset\n",
    "\n",
    "Finally, we will be using population metrics and perhaps other data collected by the Canadian Census. Limited Census data is freely available and includes population and household metrics. I previously used this dataset in a previous project that examined Postal Codes in Toronto by size, so the dataset is already cleaned. For more information on Census Data, please visit: https://www12.statcan.gc.ca/census-recensement/2016/dp-pd/index-eng.cfm.\n",
    "\n",
    "In addition to these key datasets, additional information in non-tabular format might be required to successfully complete the project. For example, a search of neighborhood or postal code characteristics might be used to eliminate or compress areas. A full listing of any additional can be found in the References section of the report (to be completed)."
   ]
  },
  {
   "cell_type": "markdown",
   "metadata": {},
   "source": [
    "## Part 3: Data Extraction and Cleaning (to be continued)..."
   ]
  },
  {
   "cell_type": "code",
   "execution_count": 10,
   "metadata": {},
   "outputs": [],
   "source": [
    "yelpdb = pd.read_json ('L:\\\\Kaggle\\\\yelp_academic_dataset_business.json', lines = True)"
   ]
  },
  {
   "cell_type": "code",
   "execution_count": 12,
   "metadata": {},
   "outputs": [
    {
     "data": {
      "text/plain": [
       "(209393, 14)"
      ]
     },
     "execution_count": 12,
     "metadata": {},
     "output_type": "execute_result"
    }
   ],
   "source": [
    "yelpdb.shape"
   ]
  },
  {
   "cell_type": "code",
   "execution_count": null,
   "metadata": {},
   "outputs": [],
   "source": []
  }
 ],
 "metadata": {
  "kernelspec": {
   "display_name": "Python 3",
   "language": "python",
   "name": "python3"
  },
  "language_info": {
   "codemirror_mode": {
    "name": "ipython",
    "version": 3
   },
   "file_extension": ".py",
   "mimetype": "text/x-python",
   "name": "python",
   "nbconvert_exporter": "python",
   "pygments_lexer": "ipython3",
   "version": "3.7.3"
  }
 },
 "nbformat": 4,
 "nbformat_minor": 2
}
